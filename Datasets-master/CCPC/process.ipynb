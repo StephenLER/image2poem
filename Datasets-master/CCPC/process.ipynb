{
 "cells": [
  {
   "cell_type": "code",
   "execution_count": 1,
   "metadata": {},
   "outputs": [],
   "source": [
    "import csv\n",
    "import json"
   ]
  },
  {
   "cell_type": "code",
   "execution_count": 2,
   "metadata": {},
   "outputs": [],
   "source": [
    "def parse_line(line):\n",
    "    data = json.loads(line)\n",
    "    poem = data['content']\n",
    "    return poem"
   ]
  },
  {
   "cell_type": "code",
   "execution_count": 8,
   "metadata": {},
   "outputs": [],
   "source": [
    "# 输入和输出文件的路径\n",
    "input_file_path = './ccpc_train_v1.0.json'\n",
    "output_csv_file_path = './choices.csv'"
   ]
  },
  {
   "cell_type": "code",
   "execution_count": 4,
   "metadata": {},
   "outputs": [],
   "source": [
    "with open(input_file_path, 'r', encoding='utf-8') as file:\n",
    "    lines = file.readlines()\n",
    "\n",
    "# 解析每一行\n",
    "parsed_data = [parse_line(line) for line in lines]"
   ]
  },
  {
   "cell_type": "code",
   "execution_count": 5,
   "metadata": {},
   "outputs": [],
   "source": [
    "parsed_data = [line.replace('|',',') for line in parsed_data]\n"
   ]
  },
  {
   "cell_type": "code",
   "execution_count": 6,
   "metadata": {},
   "outputs": [
    {
     "data": {
      "text/plain": [
       "['崖悬百尺古,面削一屏开,晴日流丹草,春风长绿苔',\n",
       " '每忆宋夫子,终年坐北轩,著书良自苦,得意好忘言',\n",
       " '劝酒重持杯,杯深喜不辞,愿将今日意,同保百年期',\n",
       " '仁心均动植,风化正邦家,福庆方骈集,灵符尚辟邪',\n",
       " '骤来惊辟易,久视益虚无,咫尺星堪摘,波摇又走珠']"
      ]
     },
     "execution_count": 6,
     "metadata": {},
     "output_type": "execute_result"
    }
   ],
   "source": [
    "parsed_data[:5]"
   ]
  },
  {
   "cell_type": "code",
   "execution_count": 11,
   "metadata": {},
   "outputs": [],
   "source": [
    "# 写入 CSV 文件\n",
    "with open(output_csv_file_path, mode='w', newline='', encoding='utf-8') as file:\n",
    "    writer = csv.writer(file)\n",
    "    writer.writerow(['choices'])  # 写入表头\n",
    "\n",
    "    for poem in parsed_data:\n",
    "        writer.writerow([poem])"
   ]
  },
  {
   "cell_type": "code",
   "execution_count": null,
   "metadata": {},
   "outputs": [],
   "source": []
  }
 ],
 "metadata": {
  "kernelspec": {
   "display_name": "ml",
   "language": "python",
   "name": "python3"
  },
  "language_info": {
   "codemirror_mode": {
    "name": "ipython",
    "version": 3
   },
   "file_extension": ".py",
   "mimetype": "text/x-python",
   "name": "python",
   "nbconvert_exporter": "python",
   "pygments_lexer": "ipython3",
   "version": "3.8.3"
  }
 },
 "nbformat": 4,
 "nbformat_minor": 2
}
