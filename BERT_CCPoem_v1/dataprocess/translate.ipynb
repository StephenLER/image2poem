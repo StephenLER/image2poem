{
 "cells": [
  {
   "cell_type": "code",
   "execution_count": 1,
   "metadata": {},
   "outputs": [],
   "source": [
    "import csv\n",
    "import json"
   ]
  },
  {
   "cell_type": "code",
   "execution_count": 2,
   "metadata": {},
   "outputs": [],
   "source": [
    "def parse_line(line):\n",
    "    data = json.loads(line)\n",
    "    translation = data['translation']\n",
    "    selected_choice = data['choices'][data['answer']]  # 根据 answer 索引选择对应的选项\n",
    "    return translation, selected_choice"
   ]
  },
  {
   "cell_type": "code",
   "execution_count": 3,
   "metadata": {},
   "outputs": [],
   "source": [
    "# 输入和输出文件的路径\n",
    "input_file_path = '../CCPM-master/train.jsonl'\n",
    "output_csv_file_path1 = '../CCPM-master/train.csv'\n",
    "output_csv_file_path2 = '../CCPM-master/unique_choices.csv'"
   ]
  },
  {
   "cell_type": "code",
   "execution_count": 4,
   "metadata": {},
   "outputs": [],
   "source": [
    "# 读取 JSONL 文件\n",
    "with open(input_file_path, 'r', encoding='utf-8') as file:\n",
    "    lines = file.readlines()\n",
    "\n",
    "# 解析每一行\n",
    "parsed_data = [parse_line(line) for line in lines]"
   ]
  },
  {
   "cell_type": "code",
   "execution_count": 5,
   "metadata": {},
   "outputs": [],
   "source": [
    "# 写入 CSV 文件\n",
    "with open(output_csv_file_path, mode='w', newline='', encoding='utf-8') as file:\n",
    "    writer = csv.writer(file)\n",
    "    writer.writerow(['translation', 'selected_choice'])  # 写入表头\n",
    "\n",
    "    for translation, selected_choice in parsed_data:\n",
    "        writer.writerow([translation, selected_choice])"
   ]
  },
  {
   "cell_type": "code",
   "execution_count": null,
   "metadata": {},
   "outputs": [],
   "source": [
    "# 用于存储唯一选项的集合\n",
    "unique_choices = set()\n",
    "\n",
    "# 读取 JSONL 文件并提取选项\n",
    "with open(input_file_path, 'r', encoding='utf-8') as file:\n",
    "    for line in file:\n",
    "        data = json.loads(line)\n",
    "        choices = data['choices']\n",
    "        unique_choices.update(choices)  # 将选项添加到集合中，自动去除重复项\n",
    "\n",
    "# 将唯一选项写入 CSV 文件\n",
    "with open(output_csv_file_path2, mode='w', newline='', encoding='utf-8') as file:\n",
    "    writer = csv.writer(file)\n",
    "    for choice in unique_choices:\n",
    "        writer.writerow([choice])"
   ]
  },
  {
   "cell_type": "code",
   "execution_count": 5,
   "metadata": {},
   "outputs": [
    {
     "data": {
      "text/plain": [
       "['行人初上木兰舟', '骚人遥驻木兰舟', '有人独上木兰舟', '行人迢递木兰舟']"
      ]
     },
     "execution_count": 5,
     "metadata": {},
     "output_type": "execute_result"
    }
   ],
   "source": [
    "st=\"行人初上木兰舟|骚人遥驻木兰舟|有人独上木兰舟|行人迢递木兰舟\"\n",
    "st=st.split('|')\n",
    "st"
   ]
  },
  {
   "cell_type": "code",
   "execution_count": null,
   "metadata": {},
   "outputs": [],
   "source": []
  }
 ],
 "metadata": {
  "kernelspec": {
   "display_name": "base",
   "language": "python",
   "name": "python3"
  },
  "language_info": {
   "codemirror_mode": {
    "name": "ipython",
    "version": 3
   },
   "file_extension": ".py",
   "mimetype": "text/x-python",
   "name": "python",
   "nbconvert_exporter": "python",
   "pygments_lexer": "ipython3",
   "version": "3.8.3"
  }
 },
 "nbformat": 4,
 "nbformat_minor": 2
}
